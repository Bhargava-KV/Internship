{
 "cells": [
  {
   "cell_type": "markdown",
   "id": "1d85fa0c",
   "metadata": {},
   "source": [
    "## Sentiment Analysis. \n",
    "\n",
    "## EDA and Feature Engineering"
   ]
  },
  {
   "cell_type": "code",
   "execution_count": 105,
   "id": "0d350405",
   "metadata": {},
   "outputs": [],
   "source": [
    "## Importing the necessary libraries\n",
    "import pandas as pd\n",
    "import nltk \n",
    "import numpy as np"
   ]
  },
  {
   "cell_type": "code",
   "execution_count": 106,
   "id": "9f64f7a8",
   "metadata": {},
   "outputs": [],
   "source": [
    "## Loading the data\n",
    "\n",
    "data = pd.read_csv('C:/Internship/train.txt',sep = ';',header=None)\n",
    "data_val = pd.read_csv('C:/Internship/val.txt',sep = ';',header=None)\n",
    "data_test = pd.read_csv('C:/Internship/test.txt',sep = ';',header=None)"
   ]
  },
  {
   "cell_type": "code",
   "execution_count": 107,
   "id": "efafe8f4",
   "metadata": {},
   "outputs": [],
   "source": [
    "## Index number for unique id\n",
    "\n",
    "data['TextId'] = data.index\n",
    "data_val['TextId'] = data_val.index\n",
    "data_test['TextId'] = data_val.index\n",
    "\n",
    "## Defining the columns\n",
    "\n",
    "data.columns = ['Text','Mood','TextID']\n",
    "data_val.columns = ['Text','Mood','TextID']\n",
    "data_test.columns = ['Text','Mood','TextID']"
   ]
  },
  {
   "cell_type": "code",
   "execution_count": 108,
   "id": "c3fc1e17",
   "metadata": {},
   "outputs": [],
   "source": [
    "## Maping the values to o and 1. Where 0: Negative, 1:Positive\n",
    "data['Mood'].unique()\n",
    "g = {'sadness':0,'anger':0,'love':1,'surprise':1,'fear':0,'joy':1}\n",
    "\n",
    "data['Sentiment'] = data['Mood'].map(g)\n",
    "data_val['Sentiment'] = data_val['Mood'].map(g)\n",
    "data_test['Sentiment'] = data_test['Mood'].map(g)"
   ]
  },
  {
   "cell_type": "code",
   "execution_count": 109,
   "id": "b9238401",
   "metadata": {},
   "outputs": [],
   "source": [
    "y = data['Sentiment']\n",
    "y_val = data_val['Sentiment']\n",
    "y_test = data_test['Sentiment']"
   ]
  },
  {
   "cell_type": "code",
   "execution_count": 110,
   "id": "5713a4d3",
   "metadata": {},
   "outputs": [],
   "source": [
    "## Data cleaning round 1 \n",
    "\n",
    "import re\n",
    "import string\n",
    "\n",
    "def clean_text_round1(text):\n",
    "    ## Make text lowercase, remove text in square brackets, remove punctuation and remove words containing numbers.\n",
    "    text = text.lower()\n",
    "    text = re.sub('\\[.*?\\]', '', text)\n",
    "    text = re.sub('[%s]' % re.escape(string.punctuation), '', text)\n",
    "    text = re.sub('\\w*\\d\\w*', '', text)\n",
    "    return text\n",
    "\n",
    "round1 = lambda x: clean_text_round1(x)"
   ]
  },
  {
   "cell_type": "code",
   "execution_count": 111,
   "id": "c7bcfc14",
   "metadata": {},
   "outputs": [
    {
     "data": {
      "text/html": [
       "<div>\n",
       "<style scoped>\n",
       "    .dataframe tbody tr th:only-of-type {\n",
       "        vertical-align: middle;\n",
       "    }\n",
       "\n",
       "    .dataframe tbody tr th {\n",
       "        vertical-align: top;\n",
       "    }\n",
       "\n",
       "    .dataframe thead th {\n",
       "        text-align: right;\n",
       "    }\n",
       "</style>\n",
       "<table border=\"1\" class=\"dataframe\">\n",
       "  <thead>\n",
       "    <tr style=\"text-align: right;\">\n",
       "      <th></th>\n",
       "      <th>Text</th>\n",
       "      <th>Mood</th>\n",
       "      <th>TextID</th>\n",
       "      <th>Sentiment</th>\n",
       "      <th>Text_selected</th>\n",
       "    </tr>\n",
       "  </thead>\n",
       "  <tbody>\n",
       "    <tr>\n",
       "      <th>0</th>\n",
       "      <td>i didnt feel humiliated</td>\n",
       "      <td>sadness</td>\n",
       "      <td>0</td>\n",
       "      <td>0</td>\n",
       "      <td>i didnt feel humiliated</td>\n",
       "    </tr>\n",
       "    <tr>\n",
       "      <th>1</th>\n",
       "      <td>i can go from feeling so hopeless to so damned...</td>\n",
       "      <td>sadness</td>\n",
       "      <td>1</td>\n",
       "      <td>0</td>\n",
       "      <td>i can go from feeling so hopeless to so damned...</td>\n",
       "    </tr>\n",
       "    <tr>\n",
       "      <th>2</th>\n",
       "      <td>im grabbing a minute to post i feel greedy wrong</td>\n",
       "      <td>anger</td>\n",
       "      <td>2</td>\n",
       "      <td>0</td>\n",
       "      <td>im grabbing a minute to post i feel greedy wrong</td>\n",
       "    </tr>\n",
       "    <tr>\n",
       "      <th>3</th>\n",
       "      <td>i am ever feeling nostalgic about the fireplac...</td>\n",
       "      <td>love</td>\n",
       "      <td>3</td>\n",
       "      <td>1</td>\n",
       "      <td>i am ever feeling nostalgic about the fireplac...</td>\n",
       "    </tr>\n",
       "    <tr>\n",
       "      <th>4</th>\n",
       "      <td>i am feeling grouchy</td>\n",
       "      <td>anger</td>\n",
       "      <td>4</td>\n",
       "      <td>0</td>\n",
       "      <td>i am feeling grouchy</td>\n",
       "    </tr>\n",
       "  </tbody>\n",
       "</table>\n",
       "</div>"
      ],
      "text/plain": [
       "                                                Text     Mood  TextID  \\\n",
       "0                            i didnt feel humiliated  sadness       0   \n",
       "1  i can go from feeling so hopeless to so damned...  sadness       1   \n",
       "2   im grabbing a minute to post i feel greedy wrong    anger       2   \n",
       "3  i am ever feeling nostalgic about the fireplac...     love       3   \n",
       "4                               i am feeling grouchy    anger       4   \n",
       "\n",
       "   Sentiment                                      Text_selected  \n",
       "0          0                            i didnt feel humiliated  \n",
       "1          0  i can go from feeling so hopeless to so damned...  \n",
       "2          0   im grabbing a minute to post i feel greedy wrong  \n",
       "3          1  i am ever feeling nostalgic about the fireplac...  \n",
       "4          0                               i am feeling grouchy  "
      ]
     },
     "execution_count": 111,
     "metadata": {},
     "output_type": "execute_result"
    }
   ],
   "source": [
    "# Let's take a look at the updated text\n",
    "data['Text_selected'] = pd.DataFrame(data.Text.apply(round1))\n",
    "data.head()"
   ]
  },
  {
   "cell_type": "code",
   "execution_count": 112,
   "id": "a86d0d8f",
   "metadata": {},
   "outputs": [],
   "source": [
    "# Apply a second round of cleaning\n",
    "def clean_text_round2(text):\n",
    "    ###Get rid of some additional punctuation and non-sensical text that was missed the first time around.\n",
    "    text = re.sub('[‘’“”…]', '', text)\n",
    "    text = re.sub('\\n', '', text)\n",
    "    return text\n",
    "\n",
    "round2 = lambda x: clean_text_round2(x)"
   ]
  },
  {
   "cell_type": "code",
   "execution_count": 113,
   "id": "88c41f15",
   "metadata": {},
   "outputs": [
    {
     "data": {
      "text/html": [
       "<div>\n",
       "<style scoped>\n",
       "    .dataframe tbody tr th:only-of-type {\n",
       "        vertical-align: middle;\n",
       "    }\n",
       "\n",
       "    .dataframe tbody tr th {\n",
       "        vertical-align: top;\n",
       "    }\n",
       "\n",
       "    .dataframe thead th {\n",
       "        text-align: right;\n",
       "    }\n",
       "</style>\n",
       "<table border=\"1\" class=\"dataframe\">\n",
       "  <thead>\n",
       "    <tr style=\"text-align: right;\">\n",
       "      <th></th>\n",
       "      <th>Text</th>\n",
       "      <th>Mood</th>\n",
       "      <th>TextID</th>\n",
       "      <th>Sentiment</th>\n",
       "      <th>Text_selected</th>\n",
       "    </tr>\n",
       "  </thead>\n",
       "  <tbody>\n",
       "    <tr>\n",
       "      <th>0</th>\n",
       "      <td>i didnt feel humiliated</td>\n",
       "      <td>sadness</td>\n",
       "      <td>0</td>\n",
       "      <td>0</td>\n",
       "      <td>i didnt feel humiliated</td>\n",
       "    </tr>\n",
       "    <tr>\n",
       "      <th>1</th>\n",
       "      <td>i can go from feeling so hopeless to so damned...</td>\n",
       "      <td>sadness</td>\n",
       "      <td>1</td>\n",
       "      <td>0</td>\n",
       "      <td>i can go from feeling so hopeless to so damned...</td>\n",
       "    </tr>\n",
       "    <tr>\n",
       "      <th>2</th>\n",
       "      <td>im grabbing a minute to post i feel greedy wrong</td>\n",
       "      <td>anger</td>\n",
       "      <td>2</td>\n",
       "      <td>0</td>\n",
       "      <td>im grabbing a minute to post i feel greedy wrong</td>\n",
       "    </tr>\n",
       "    <tr>\n",
       "      <th>3</th>\n",
       "      <td>i am ever feeling nostalgic about the fireplac...</td>\n",
       "      <td>love</td>\n",
       "      <td>3</td>\n",
       "      <td>1</td>\n",
       "      <td>i am ever feeling nostalgic about the fireplac...</td>\n",
       "    </tr>\n",
       "    <tr>\n",
       "      <th>4</th>\n",
       "      <td>i am feeling grouchy</td>\n",
       "      <td>anger</td>\n",
       "      <td>4</td>\n",
       "      <td>0</td>\n",
       "      <td>i am feeling grouchy</td>\n",
       "    </tr>\n",
       "  </tbody>\n",
       "</table>\n",
       "</div>"
      ],
      "text/plain": [
       "                                                Text     Mood  TextID  \\\n",
       "0                            i didnt feel humiliated  sadness       0   \n",
       "1  i can go from feeling so hopeless to so damned...  sadness       1   \n",
       "2   im grabbing a minute to post i feel greedy wrong    anger       2   \n",
       "3  i am ever feeling nostalgic about the fireplac...     love       3   \n",
       "4                               i am feeling grouchy    anger       4   \n",
       "\n",
       "   Sentiment                                      Text_selected  \n",
       "0          0                            i didnt feel humiliated  \n",
       "1          0  i can go from feeling so hopeless to so damned...  \n",
       "2          0   im grabbing a minute to post i feel greedy wrong  \n",
       "3          1  i am ever feeling nostalgic about the fireplac...  \n",
       "4          0                               i am feeling grouchy  "
      ]
     },
     "execution_count": 113,
     "metadata": {},
     "output_type": "execute_result"
    }
   ],
   "source": [
    "data['Text_selected'] = pd.DataFrame(data.Text.apply(round2))\n",
    "data.head()"
   ]
  },
  {
   "cell_type": "code",
   "execution_count": 114,
   "id": "86cac9b2",
   "metadata": {},
   "outputs": [],
   "source": [
    "### Applying the same for validation dataset.\n",
    "\n",
    "data_val['Text_selected'] = pd.DataFrame(data_val.Text.apply(round1))\n",
    "data_val['Text_selected'] = pd.DataFrame(data_val.Text.apply(round2))"
   ]
  },
  {
   "cell_type": "code",
   "execution_count": 115,
   "id": "6185ff8d",
   "metadata": {},
   "outputs": [],
   "source": [
    "## Applying the same for test dataset. \n",
    "\n",
    "data_test['Text_selected'] = pd.DataFrame(data_test.Text.apply(round1))\n",
    "data_test['Text_selected'] = pd.DataFrame(data_test.Text.apply(round2))"
   ]
  },
  {
   "cell_type": "code",
   "execution_count": 116,
   "id": "316430b2",
   "metadata": {},
   "outputs": [],
   "source": [
    "\n",
    "\n",
    "data.to_csv('train.csv')\n",
    "data_val.to_csv('val.csv')\n",
    "data_test.to_csv('test.csv')"
   ]
  },
  {
   "cell_type": "markdown",
   "id": "51d6345a",
   "metadata": {},
   "source": [
    "## Now the text is cleaned. We will build a bidirectional LSTM model with word embedding. (document-matrix)"
   ]
  },
  {
   "cell_type": "code",
   "execution_count": 117,
   "id": "b56cf2e0",
   "metadata": {},
   "outputs": [],
   "source": [
    "## Creating the model \n",
    "from tensorflow.keras.preprocessing.text import one_hot\n",
    "from tensorflow.keras.layers import Dense, Embedding\n",
    "from tensorflow.keras.models import Sequential \n",
    "from tensorflow.keras.preprocessing.sequence import pad_sequences\n",
    "from tensorflow.keras.layers import LSTM,Bidirectional\n",
    "from tensorflow.keras.layers import Dropout\n"
   ]
  },
  {
   "cell_type": "code",
   "execution_count": 118,
   "id": "cbf8ab16",
   "metadata": {},
   "outputs": [],
   "source": [
    "## Defining the vocabulary size. \n",
    "voc_size=5000\n",
    "## Embedding Representation for training set\n",
    "onehot_repr=[one_hot(words,voc_size)for words in data['Text_selected']] \n",
    "\n",
    "max_len = 20\n",
    "embedded_docs = pad_sequences(onehot_repr,padding='pre',maxlen=max_len)"
   ]
  },
  {
   "cell_type": "code",
   "execution_count": 119,
   "id": "32283849",
   "metadata": {},
   "outputs": [],
   "source": [
    "## Embedding Representation for validation set\n",
    "\n",
    "onehot_repr_val=[one_hot(words,voc_size)for words in data_val['Text_selected']] \n",
    "\n",
    "embedded_docs_val = pad_sequences(onehot_repr_val,padding='pre',maxlen=max_len)\n",
    "\n",
    "## Embedding Representation for test set\n",
    "\n",
    "onehot_repr_test=[one_hot(words,voc_size)for words in data_test['Text_selected']] \n",
    "\n",
    "embedded_docs_test = pad_sequences(onehot_repr_test,padding='pre',maxlen=max_len)"
   ]
  },
  {
   "cell_type": "markdown",
   "id": "43c23756",
   "metadata": {},
   "source": [
    "## Building the model"
   ]
  },
  {
   "cell_type": "code",
   "execution_count": 120,
   "id": "4686f795",
   "metadata": {},
   "outputs": [
    {
     "name": "stdout",
     "output_type": "stream",
     "text": [
      "Model: \"sequential_4\"\n",
      "_________________________________________________________________\n",
      "Layer (type)                 Output Shape              Param #   \n",
      "=================================================================\n",
      "embedding_4 (Embedding)      (None, 20, 40)            200000    \n",
      "_________________________________________________________________\n",
      "bidirectional_4 (Bidirection (None, 200)               112800    \n",
      "_________________________________________________________________\n",
      "dropout_4 (Dropout)          (None, 200)               0         \n",
      "_________________________________________________________________\n",
      "dense_4 (Dense)              (None, 1)                 201       \n",
      "=================================================================\n",
      "Total params: 313,001\n",
      "Trainable params: 313,001\n",
      "Non-trainable params: 0\n",
      "_________________________________________________________________\n"
     ]
    }
   ],
   "source": [
    "embedding_vector_size = 40\n",
    "model = Sequential()\n",
    "model.add(Embedding(voc_size,embedding_vector_size,input_length =max_len))\n",
    "model.add(Bidirectional(LSTM(100)))\n",
    "model.add(Dropout(0.3))        \n",
    "model.add(Dense(units=1,activation='sigmoid'))\n",
    "model.compile('Adam',loss='binary_crossentropy',metrics=['accuracy'])\n",
    "model.summary()\n",
    "\n",
    "\n",
    "\n",
    "X_train = np.array(embedded_docs)\n",
    "y_train = np.array(y)\n",
    "\n",
    "X_val =  np.array(embedded_docs_val)\n",
    "y_val = np.array(y_val)\n",
    "\n",
    "X_test = np.array(embedded_docs_test)\n",
    "y_test = np.array(y_test)"
   ]
  },
  {
   "cell_type": "markdown",
   "id": "9adcf811",
   "metadata": {},
   "source": [
    "## Training the model"
   ]
  },
  {
   "cell_type": "code",
   "execution_count": 121,
   "id": "d4580360",
   "metadata": {},
   "outputs": [
    {
     "name": "stdout",
     "output_type": "stream",
     "text": [
      "Epoch 1/10\n",
      "250/250 [==============================] - 12s 31ms/step - loss: 0.4860 - accuracy: 0.7447 - val_loss: 0.3402 - val_accuracy: 0.8515\n",
      "Epoch 2/10\n",
      "250/250 [==============================] - 7s 29ms/step - loss: 0.2580 - accuracy: 0.8966 - val_loss: 0.3033 - val_accuracy: 0.8680\n",
      "Epoch 3/10\n",
      "250/250 [==============================] - 7s 26ms/step - loss: 0.2011 - accuracy: 0.9199 - val_loss: 0.3187 - val_accuracy: 0.8795\n",
      "Epoch 4/10\n",
      "250/250 [==============================] - 7s 27ms/step - loss: 0.1584 - accuracy: 0.9417 - val_loss: 0.3168 - val_accuracy: 0.8735\n",
      "Epoch 5/10\n",
      "250/250 [==============================] - 7s 26ms/step - loss: 0.1184 - accuracy: 0.9572 - val_loss: 0.3620 - val_accuracy: 0.8795\n",
      "Epoch 6/10\n",
      "250/250 [==============================] - 7s 27ms/step - loss: 0.0875 - accuracy: 0.9690 - val_loss: 0.3578 - val_accuracy: 0.8815\n",
      "Epoch 7/10\n",
      "250/250 [==============================] - 7s 26ms/step - loss: 0.0706 - accuracy: 0.9758 - val_loss: 0.4200 - val_accuracy: 0.8855\n",
      "Epoch 8/10\n",
      "250/250 [==============================] - 7s 27ms/step - loss: 0.0511 - accuracy: 0.9839 - val_loss: 0.4572 - val_accuracy: 0.8900\n",
      "Epoch 9/10\n",
      "250/250 [==============================] - 7s 28ms/step - loss: 0.0425 - accuracy: 0.9863 - val_loss: 0.5147 - val_accuracy: 0.8780\n",
      "Epoch 10/10\n",
      "250/250 [==============================] - 7s 26ms/step - loss: 0.0380 - accuracy: 0.9871 - val_loss: 0.4978 - val_accuracy: 0.8895\n"
     ]
    },
    {
     "data": {
      "text/plain": [
       "<tensorflow.python.keras.callbacks.History at 0x1eddd0fb700>"
      ]
     },
     "execution_count": 121,
     "metadata": {},
     "output_type": "execute_result"
    }
   ],
   "source": [
    "model.fit(X_train,y_train,batch_size=64,epochs=10,validation_data=(X_val,y_val))"
   ]
  },
  {
   "cell_type": "markdown",
   "id": "07329cb9",
   "metadata": {},
   "source": [
    "## Evaluating the model on validation set. "
   ]
  },
  {
   "cell_type": "code",
   "execution_count": 124,
   "id": "8edc70c0",
   "metadata": {},
   "outputs": [
    {
     "name": "stderr",
     "output_type": "stream",
     "text": [
      "C:\\Users\\kvbha\\AppData\\Roaming\\Python\\Python38\\site-packages\\tensorflow\\python\\keras\\engine\\sequential.py:455: UserWarning: `model.predict_classes()` is deprecated and will be removed after 2021-01-01. Please use instead:* `np.argmax(model.predict(x), axis=-1)`,   if your model does multi-class classification   (e.g. if it uses a `softmax` last-layer activation).* `(model.predict(x) > 0.5).astype(\"int32\")`,   if your model does binary classification   (e.g. if it uses a `sigmoid` last-layer activation).\n",
      "  warnings.warn('`model.predict_classes()` is deprecated and '\n"
     ]
    }
   ],
   "source": [
    "y_pred_val=model.predict_classes(X_val)\n",
    "\n",
    "from sklearn.metrics import accuracy_score,confusion_matrix, classification_report\n",
    "\n",
    "score = accuracy_score(y_pred_val,y_val)\n",
    "matrix = confusion_matrix(y_pred_val,y_val)\n",
    "cls_report = classification_report(y_pred_val,y_val)"
   ]
  },
  {
   "cell_type": "code",
   "execution_count": 125,
   "id": "18a9bb90",
   "metadata": {},
   "outputs": [
    {
     "name": "stdout",
     "output_type": "stream",
     "text": [
      "0.8895\n",
      "[[938 122]\n",
      " [ 99 841]]\n",
      "              precision    recall  f1-score   support\n",
      "\n",
      "           0       0.90      0.88      0.89      1060\n",
      "           1       0.87      0.89      0.88       940\n",
      "\n",
      "    accuracy                           0.89      2000\n",
      "   macro avg       0.89      0.89      0.89      2000\n",
      "weighted avg       0.89      0.89      0.89      2000\n",
      "\n"
     ]
    }
   ],
   "source": [
    "print(score)\n",
    "print(matrix)\n",
    "print(cls_report)"
   ]
  },
  {
   "cell_type": "markdown",
   "id": "7e53d209",
   "metadata": {},
   "source": [
    "## Evaluating the model on test set. "
   ]
  },
  {
   "cell_type": "code",
   "execution_count": 126,
   "id": "f2a259a8",
   "metadata": {},
   "outputs": [
    {
     "name": "stderr",
     "output_type": "stream",
     "text": [
      "C:\\Users\\kvbha\\AppData\\Roaming\\Python\\Python38\\site-packages\\tensorflow\\python\\keras\\engine\\sequential.py:455: UserWarning: `model.predict_classes()` is deprecated and will be removed after 2021-01-01. Please use instead:* `np.argmax(model.predict(x), axis=-1)`,   if your model does multi-class classification   (e.g. if it uses a `softmax` last-layer activation).* `(model.predict(x) > 0.5).astype(\"int32\")`,   if your model does binary classification   (e.g. if it uses a `sigmoid` last-layer activation).\n",
      "  warnings.warn('`model.predict_classes()` is deprecated and '\n"
     ]
    }
   ],
   "source": [
    "y_pred_test=model.predict_classes(X_test)\n",
    "\n",
    "score_test = accuracy_score(y_pred_test,y_test)\n",
    "matrix_test = confusion_matrix(y_pred_test,y_test)\n",
    "cls_report_test = classification_report(y_pred_test,y_test)"
   ]
  },
  {
   "cell_type": "code",
   "execution_count": 127,
   "id": "2bf18504",
   "metadata": {},
   "outputs": [
    {
     "name": "stdout",
     "output_type": "stream",
     "text": [
      "0.8765\n",
      "[[954 121]\n",
      " [126 799]]\n",
      "              precision    recall  f1-score   support\n",
      "\n",
      "           0       0.88      0.89      0.89      1075\n",
      "           1       0.87      0.86      0.87       925\n",
      "\n",
      "    accuracy                           0.88      2000\n",
      "   macro avg       0.88      0.88      0.88      2000\n",
      "weighted avg       0.88      0.88      0.88      2000\n",
      "\n"
     ]
    }
   ],
   "source": [
    "print(score_test)\n",
    "print(matrix_test)\n",
    "print(cls_report_test)"
   ]
  },
  {
   "cell_type": "code",
   "execution_count": 128,
   "id": "11030fb0",
   "metadata": {},
   "outputs": [
    {
     "name": "stderr",
     "output_type": "stream",
     "text": [
      "C:\\Users\\kvbha\\AppData\\Roaming\\Python\\Python38\\site-packages\\tensorflow\\python\\keras\\engine\\sequential.py:455: UserWarning: `model.predict_classes()` is deprecated and will be removed after 2021-01-01. Please use instead:* `np.argmax(model.predict(x), axis=-1)`,   if your model does multi-class classification   (e.g. if it uses a `softmax` last-layer activation).* `(model.predict(x) > 0.5).astype(\"int32\")`,   if your model does binary classification   (e.g. if it uses a `sigmoid` last-layer activation).\n",
      "  warnings.warn('`model.predict_classes()` is deprecated and '\n"
     ]
    }
   ],
   "source": [
    "y_pred = model.predict_classes(X_train)"
   ]
  },
  {
   "cell_type": "code",
   "execution_count": 129,
   "id": "7454bdfc",
   "metadata": {},
   "outputs": [],
   "source": [
    "## concating the predictions\n",
    "\n",
    "data = pd.concat([data,pd.DataFrame(y_pred)],axis=1)\n",
    "data.rename(columns={0:'Predictions'},inplace=True)"
   ]
  },
  {
   "cell_type": "code",
   "execution_count": 132,
   "id": "ab5510e1",
   "metadata": {},
   "outputs": [],
   "source": [
    "data_val = pd.concat([data_val,pd.DataFrame(y_pred_val)],axis=1)\n",
    "data_val.rename(columns={0:'Predictions'},inplace=True)"
   ]
  },
  {
   "cell_type": "code",
   "execution_count": 133,
   "id": "aa181921",
   "metadata": {},
   "outputs": [],
   "source": [
    "data_test = pd.concat([data_test,pd.DataFrame(y_pred_test)],axis=1)\n",
    "data_test.rename(columns={0:'Predictions'},inplace=True)"
   ]
  },
  {
   "cell_type": "code",
   "execution_count": 135,
   "id": "858e07a6",
   "metadata": {},
   "outputs": [],
   "source": [
    "## Remaping to the final dataset. \n",
    "\n",
    "d = {0:'Negative',1:'Positive'}\n",
    "\n",
    "data['Sentiment'] = data['Sentiment'].map(d)\n",
    "data['Predictions'] = data['Predictions'].map(d)\n",
    "\n",
    "data_val['Sentiment'] = data_val['Sentiment'].map(d)\n",
    "data_val['Predictions'] = data_val['Predictions'].map(d)\n",
    "\n",
    "data_test['Sentiment'] = data_test['Sentiment'].map(d)\n",
    "data_test['Predictions'] = data_test['Predictions'].map(d)"
   ]
  },
  {
   "cell_type": "code",
   "execution_count": 138,
   "id": "a7acbe03",
   "metadata": {},
   "outputs": [],
   "source": [
    "## Converting into csv. \n",
    "\n",
    "data.to_csv('submission_train.csv')\n",
    "data_val.to_csv('submission_val.csv')\n",
    "data_test.to_csv('submission_test.csv')"
   ]
  }
 ],
 "metadata": {
  "kernelspec": {
   "display_name": "Python 3",
   "language": "python",
   "name": "python3"
  },
  "language_info": {
   "codemirror_mode": {
    "name": "ipython",
    "version": 3
   },
   "file_extension": ".py",
   "mimetype": "text/x-python",
   "name": "python",
   "nbconvert_exporter": "python",
   "pygments_lexer": "ipython3",
   "version": "3.8.10"
  }
 },
 "nbformat": 4,
 "nbformat_minor": 5
}
